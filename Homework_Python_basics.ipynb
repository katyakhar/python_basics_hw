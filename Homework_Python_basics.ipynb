{
 "cells": [
  {
   "cell_type": "code",
   "execution_count": null,
   "metadata": {},
   "outputs": [],
   "source": [
    "# Задание 1\n",
    "phrase_1 = input('Введите фразу: ')\n",
    "phrase_2 = input('Введите фразу: ')\n",
    "if len(phrase_1)>len(phrase_2):\n",
    "    print('Фраза 1 длиннее фразы 2')\n",
    "elif len(phrase_1)<len(phrase_2):\n",
    "    print('Фраза 2 длиннее фразы 1')\n",
    "else:\n",
    "    print('Фразы равной длины')"
   ]
  },
  {
   "cell_type": "code",
   "execution_count": null,
   "metadata": {},
   "outputs": [],
   "source": [
    "# Задание 2\n",
    "year = int(input('Введите год: '))\n",
    "if year % 400 == 0:\n",
    "    print('Високосный год')\n",
    "elif year % 4 == 0:\n",
    "    print('Високосный год')\n",
    "else:\n",
    "    print('Обычный год')"
   ]
  },
  {
   "cell_type": "code",
   "execution_count": null,
   "metadata": {},
   "outputs": [],
   "source": [
    "# Задание 3\n",
    "day = int(input('Введите дату рождения: '))\n",
    "month = input('Введите месяц рождения: ')\n",
    "if (day >= 21 and (month == 'Март' or month == '3')) or (day <= 20 and (month == 'Апрель' or month == '4')):\n",
    "    print('Ваш знак зодиака: Овен')\n",
    "elif (day >= 21 and (month == 'Апрель' or month == '4')) or (day <= 21 and (month == 'Май' or month == '5')):\n",
    "    print('Ваш знак зодиака: Телец')\n",
    "elif (day >= 22 and (month == 'Май' or month == '5')) or (day <= 21 and (month == 'Июнь' or month == '6')):\n",
    "    print('Ваш знак зодиака: Близнецы')\n",
    "elif (day >= 22 and (month == 'Июнь' or month == '6')) or (day <= 22 and (month == 'Июль' or month == '7')):\n",
    "    print('Ваш знак зодиака: Рак')\n",
    "elif (day >= 23 and (month == 'Июль' or month == '7')) or (day <= 21 and (month == 'Август' or month == '8')):\n",
    "    print('Ваш знак зодиака: Лев') \n",
    "elif (day >= 22 and (month == 'Август' or month == '8')) or (day <= 23 and (month == 'Сентябрь' or month == '9')):\n",
    "    print('Ваш знак зодиака: Дева') \n",
    "elif (day >= 24 and (month == 'Сентябрь' or month == '9')) or (day <= 23 and (month == 'Октябрь' or month == '10')):\n",
    "    print('Ваш знак зодиака: Весы') \n",
    "elif (day >= 24 and (month == 'Октябрь' or month == '10')) or (day <= 22 and (month == 'Ноябрь' or month == '11')):\n",
    "    print('Ваш знак зодиака: Скорпион') \n",
    "elif (day >= 23 and (month == 'Ноябрь' or month == '11')) or (day <= 22 and (month == 'Декабрь' or month == '12')):\n",
    "    print('Ваш знак зодиака: Стрелец') \n",
    "elif (day >= 23 and (month == 'Декабрь' or month == '12')) or (day <= 20 and (month == 'Январь' or month == '1')):\n",
    "    print('Ваш знак зодиака: Козерог') \n",
    "elif (day >= 21 and (month == 'Январь' or month == '1')) or (day <= 19 and (month == 'Февраль' or month == '2')):\n",
    "    print('Ваш знак зодиака: Водолей') \n",
    "else:\n",
    "    print('Ваш знак зодиака: Рыбы') "
   ]
  },
  {
   "cell_type": "code",
   "execution_count": null,
   "metadata": {},
   "outputs": [],
   "source": [
    "# Задание 4\n",
    "width = int(input('Введите ширину: '))\n",
    "length = int(input('Введите длину: '))\n",
    "height = int(input('Введите высоту: '))\n",
    "\n",
    "if length > 200:\n",
    "    print('Упаковка для лыж')\n",
    "elif width < 15 and length < 15 and height < 15:\n",
    "    print('Коробка №1')\n",
    "elif (width > 15 and width < 50) or (length > 15 and length < 50) or (height > 15 and height < 50):\n",
    "    print('Коробка №2')\n",
    "else:\n",
    "    print('Стандартная коробка №3')"
   ]
  },
  {
   "cell_type": "code",
   "execution_count": null,
   "metadata": {},
   "outputs": [],
   "source": [
    "# Задание 5\n",
    "number = input('Введите номер билета, разделяя цифры пробелом: ')\n",
    "\n",
    "if len(number) == 11:\n",
    "    list = number.split()\n",
    "    for i in range(len(list)):\n",
    "        list[i] = int(list[i])\n",
    "    sum_1 = list[0] + list[1] + list[2]\n",
    "    sum_2 = list[3] + list[4] + list[5]\n",
    "    if sum_1 == sum_2:\n",
    "        print('Счастливый билет')\n",
    "    else:\n",
    "        print('Несчастливый билет')\n",
    "else:\n",
    "    print('Введите номер билета из 6 цифр, разделяя цифры пробелом.')"
   ]
  },
  {
   "cell_type": "code",
   "execution_count": null,
   "metadata": {},
   "outputs": [],
   "source": [
    "# Задание 6\n",
    "figure_type = input('Введите тип фигуры: ')\n",
    "if figure_type == 'Круг':\n",
    "    radius = float(input('Введите радиус круга: '))\n",
    "    circle_area = math.pi*(radius**2)\n",
    "    print('Площадь круга: ' + str(circle_area))\n",
    "elif figure_type == 'Треугольник':\n",
    "    a = float(input('Введите длину стороны A: '))\n",
    "    b = float(input('Введите длину стороны B: '))\n",
    "    c = float(input('Введите длину стороны C: '))\n",
    "    p = (a + b + c)/2\n",
    "    triangle_area = math.sqrt(p*(p-a)*(p-b)*(p-c))\n",
    "    print('Площадь треугольника: ' + str(triangle_area))\n",
    "elif figure_type == 'Прямоугольник':\n",
    "    a = float(input('Введите длину стороны A: '))\n",
    "    b = float(input('Введите длину стороны B: '))\n",
    "    rectangle_area = a*b\n",
    "    print('Площадь прямоугольника: ' + str(rectangle_area))\n",
    "else:\n",
    "    print('Доступный для вычислений тип фигуры - круг, треугольник, прямоугольник.')"
   ]
  }
 ],
 "metadata": {
  "kernelspec": {
   "display_name": "Python 3",
   "language": "python",
   "name": "python3"
  },
  "language_info": {
   "codemirror_mode": {
    "name": "ipython",
    "version": 3
   },
   "file_extension": ".py",
   "mimetype": "text/x-python",
   "name": "python",
   "nbconvert_exporter": "python",
   "pygments_lexer": "ipython3",
   "version": "3.8.5"
  }
 },
 "nbformat": 4,
 "nbformat_minor": 4
}
